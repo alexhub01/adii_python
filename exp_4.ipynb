{
  "nbformat": 4,
  "nbformat_minor": 0,
  "metadata": {
    "colab": {
      "provenance": [],
      "authorship_tag": "ABX9TyNccxotbDYOjPzgkK32k+ut",
      "include_colab_link": true
    },
    "kernelspec": {
      "name": "python3",
      "display_name": "Python 3"
    },
    "language_info": {
      "name": "python"
    }
  },
  "cells": [
    {
      "cell_type": "markdown",
      "metadata": {
        "id": "view-in-github",
        "colab_type": "text"
      },
      "source": [
        "<a href=\"https://colab.research.google.com/github/alexhub01/adii_python/blob/main/exp_4.ipynb\" target=\"_parent\"><img src=\"https://colab.research.google.com/assets/colab-badge.svg\" alt=\"Open In Colab\"/></a>"
      ]
    },
    {
      "cell_type": "code",
      "execution_count": 19,
      "metadata": {
        "colab": {
          "base_uri": "https://localhost:8080/"
        },
        "id": "zORyrEfwIzNb",
        "outputId": "4c60148c-46f3-4c31-9294-923214648bdb"
      },
      "outputs": [
        {
          "output_type": "stream",
          "name": "stdout",
          "text": [
            "['hp', 'macbook', 'dell', 'lenovo', 'asus']\n",
            "dell\n",
            "['hp', 'macbook', 'dell', 'lenovo', 'asus', 'acer']\n",
            "['hp', 'macbook', 'sony', 'dell', 'lenovo', 'asus', 'acer']\n",
            "['hp', 'macbook', 'dell', 'lenovo', 'asus', 'acer']\n"
          ]
        }
      ],
      "source": [
        "my_list =[\"hp\",\"macbook\",\"dell\",\"lenovo\",\"asus\"]\n",
        "print(my_list) #Create list\n",
        "print(my_list[2])  #Access list\n",
        "\n",
        "#Update List\n",
        "#Add item\n",
        "my_list.append(\"acer\")\n",
        "print(my_list)\n",
        "\n",
        " #Insert item\n",
        "my_list.insert(2,\"sony\")\n",
        "print(my_list)\n",
        "\n",
        " # Removes item\n",
        "my_list.remove(\"sony\")\n",
        "print(my_list)\n",
        "\n",
        "#Delete List\n",
        "my_list=[\"1\",\"2\",\"3\",\"4\",\"5\"]\n",
        "del (my_list)\n"
      ]
    },
    {
      "cell_type": "code",
      "source": [
        "my_list = [1, 2, 3, 4, 5, 6, 7, 8, 9, 10]\n",
        "even_number = [number for number in my_list if number % 2 == 0]\n",
        "\n",
        "print(\"Even number from the list:\", even_number)\n"
      ],
      "metadata": {
        "colab": {
          "base_uri": "https://localhost:8080/"
        },
        "id": "sIyP5yVsPwhq",
        "outputId": "39d0a10b-2334-4457-c0d9-73530266563d"
      },
      "execution_count": 20,
      "outputs": [
        {
          "output_type": "stream",
          "name": "stdout",
          "text": [
            "Even number from the list: [2, 4, 6, 8, 10]\n"
          ]
        }
      ]
    },
    {
      "cell_type": "code",
      "source": [
        "list1 = [1, 2, 3, 4, 5, 10]\n",
        "list2 = [4, 5, 6, 7 , 10 , 8]\n",
        "\n",
        "common_elements = list(set(list1) & set(list2))\n",
        "\n",
        "print(\"Common items in both lists:\", common_elements)\n"
      ],
      "metadata": {
        "colab": {
          "base_uri": "https://localhost:8080/"
        },
        "id": "qhWzQwsWQrRF",
        "outputId": "8f208fef-7312-4848-d26b-3dbc369a1935"
      },
      "execution_count": 22,
      "outputs": [
        {
          "output_type": "stream",
          "name": "stdout",
          "text": [
            "Common items in both lists: [10, 4, 5]\n"
          ]
        }
      ]
    },
    {
      "cell_type": "code",
      "source": [
        "my_list = [10, 20, 30, 40, 50]\n",
        "if len(my_list) > 1:\n",
        "\n",
        "    my_list[0], my_list[-1] = my_list[-1], my_list[0]\n",
        "\n",
        "print(\"interchanging first and last elements:\", my_list)\n"
      ],
      "metadata": {
        "colab": {
          "base_uri": "https://localhost:8080/"
        },
        "id": "uYl8ZqYvSWo1",
        "outputId": "57618d60-0f44-4369-95a0-b32a60c40474"
      },
      "execution_count": 24,
      "outputs": [
        {
          "output_type": "stream",
          "name": "stdout",
          "text": [
            "interchanging first and last elements: [50, 20, 30, 40, 10]\n"
          ]
        }
      ]
    },
    {
      "cell_type": "code",
      "source": [
        "my_list = [10, 20, 30, 40, 50]\n",
        "element1 = 30\n",
        "\n",
        "if element in my_list:\n",
        "    print(f\"{element} exist in the list.\")\n",
        "else:\n",
        "    print(f\"{element} does not exist in the list.\")\n"
      ],
      "metadata": {
        "colab": {
          "base_uri": "https://localhost:8080/"
        },
        "id": "ErBop-DOTITv",
        "outputId": "95305074-b906-4799-d084-ecd4c6f9abb4"
      },
      "execution_count": 29,
      "outputs": [
        {
          "output_type": "stream",
          "name": "stdout",
          "text": [
            "30 exist in the list.\n"
          ]
        }
      ]
    }
  ]
}